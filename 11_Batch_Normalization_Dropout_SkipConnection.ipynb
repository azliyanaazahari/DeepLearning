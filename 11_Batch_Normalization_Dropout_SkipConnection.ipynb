{
  "cells": [
    {
      "cell_type": "markdown",
      "source": [
        "## Import and dataloaders\n",
        "\n",
        "Before starting this tutorial, let's  import and define our dataloaders for CIFAR10."
      ],
      "metadata": {
        "id": "Z1P5KUInW6uY"
      }
    },
    {
      "cell_type": "code",
      "source": [
        "# Import PyTorch\n",
        "import torch\n",
        "from torch import nn\n",
        "\n",
        "# Import torchvision\n",
        "import torchvision\n",
        "from torchvision import datasets\n",
        "# from torchvision.transforms import ToTensor\n",
        "import torchvision.transforms as transforms\n",
        "\n",
        "# Import matplotlib for visualization\n",
        "import matplotlib.pyplot as plt\n",
        "\n",
        "# Check versions\n",
        "# Note: your PyTorch version shouldn't be lower than 1.10.0 and torchvision version shouldn't be lower than 0.11\n",
        "print(f\"PyTorch version: {torch.__version__}\\ntorchvision version: {torchvision.__version__}\")"
      ],
      "metadata": {
        "colab": {
          "base_uri": "https://localhost:8080/"
        },
        "id": "KuPXfbU0XFIw",
        "outputId": "6fa164d9-d964-42f3-b1db-f9938eff78e4"
      },
      "execution_count": 1,
      "outputs": [
        {
          "output_type": "stream",
          "name": "stdout",
          "text": [
            "PyTorch version: 2.6.0+cu124\n",
            "torchvision version: 0.21.0+cu124\n"
          ]
        }
      ]
    },
    {
      "cell_type": "code",
      "source": [
        "class CIFAR10Dataset(torch.utils.data.Dataset):\n",
        "    def __init__(self, root='./data', train=True, transform=None, download=True):\n",
        "        self.data = torchvision.datasets.CIFAR10(root=root, train=train, download=download, transform=transform)\n",
        "\n",
        "    def __len__(self):\n",
        "        return len(self.data)\n",
        "\n",
        "    def __getitem__(self, idx):\n",
        "        return self.data[idx]  # Returns (image, label) tuple\n",
        "\n",
        "def get_dataloader(batch_size=4, num_workers=0, root='./data'):\n",
        "    transform = transforms.Compose([\n",
        "        transforms.ToTensor(),\n",
        "        transforms.Normalize((0.5, 0.5, 0.5), (0.5, 0.5, 0.5))\n",
        "    ])\n",
        "\n",
        "    train_dataset = CIFAR10Dataset(root=root, train=True, transform=transform)\n",
        "    test_dataset = CIFAR10Dataset(root=root, train=False, transform=transform)\n",
        "\n",
        "    train_dataloader = torch.utils.data.DataLoader(train_dataset, batch_size=batch_size, shuffle=True, num_workers=num_workers)\n",
        "    test_dataloader = torch.utils.data.DataLoader(test_dataset, batch_size=batch_size, shuffle=False, num_workers=num_workers)\n",
        "\n",
        "    return train_dataloader, test_dataloader\n",
        "\n",
        "# Get dataloaders\n",
        "train_dataloader, test_dataloader = get_dataloader(batch_size=16, num_workers=0)\n",
        "\n",
        "# Define class names\n",
        "class_names = ('plane', 'car', 'bird', 'cat', 'deer', 'dog', 'frog', 'horse', 'ship', 'truck')\n",
        "\n",
        "batch_size = 16"
      ],
      "metadata": {
        "colab": {
          "base_uri": "https://localhost:8080/"
        },
        "id": "2Nq55v6GXSqi",
        "outputId": "4315cd00-5b5d-463b-cfe4-a86044fb9215"
      },
      "execution_count": 2,
      "outputs": [
        {
          "output_type": "stream",
          "name": "stderr",
          "text": [
            "100%|██████████| 170M/170M [00:03<00:00, 42.7MB/s]\n"
          ]
        }
      ]
    },
    {
      "cell_type": "code",
      "source": [
        "# Let's check out what we've created\n",
        "print(f\"Dataloaders: {train_dataloader, test_dataloader}\")\n",
        "print(f\"Length of train dataloader: {len(train_dataloader)} batches of {batch_size}\")\n",
        "print(f\"Length of test dataloader: {len(test_dataloader)} batches of {batch_size}\")"
      ],
      "metadata": {
        "colab": {
          "base_uri": "https://localhost:8080/"
        },
        "id": "OANDTmKwXYww",
        "outputId": "112ae28b-2198-4c7e-e877-f40b67bb0e0f"
      },
      "execution_count": null,
      "outputs": [
        {
          "output_type": "stream",
          "name": "stdout",
          "text": [
            "Dataloaders: (<torch.utils.data.dataloader.DataLoader object at 0x79368c1abcd0>, <torch.utils.data.dataloader.DataLoader object at 0x79368c1c12d0>)\n",
            "Length of train dataloader: 3125 batches of 16\n",
            "Length of test dataloader: 625 batches of 16\n"
          ]
        }
      ]
    },
    {
      "cell_type": "markdown",
      "metadata": {
        "id": "HVihl7rPFO9W"
      },
      "source": [
        "## Batch Normalization and Dropout\n",
        "\n",
        "Discover how batch normalization and dropout improve a model's accuracy.\n",
        "\n",
        "We will be covering:\n",
        "\n",
        "- Batch Normalization\n",
        "\n",
        "- Notations\n",
        "\n",
        "- Advantages and disadvantages of using batch normalization\n",
        "\n",
        "- Dropout\n",
        "\n",
        "### Batch Normalization\n",
        "\n",
        "If you open any introductory machine learning textbook, you will find the idea of **input scaling**. It is undesirable to train a model with **gradient descent** with non-normalized input features.\n",
        "\n",
        "Let’s start with an intuitive example to understand why we want normalization inside any model.\n",
        "\n",
        "Suppose you have an input feature $x1$ in the range [0,10000] and another feature $x2$ in the range [0,1]. Any linear combination would ignore $x2$ such that $x1*w1 + x2*w2 \\approx x1$, since our weights are initialized in a very tiny range like [-1,1].\n",
        "\n",
        "We encounter the same issues inside the layers of deep neural networks. In this lesson, we will propagate this idea inside the NN.\n",
        "\n",
        "> If we think out of the box, any intermediate layer is conceptually the same as the input layer; it accepts features and transforms them"
      ]
    },
    {
      "cell_type": "markdown",
      "metadata": {
        "id": "78X-xhlyFO9y"
      },
      "source": [
        "### Notations\n",
        "\n",
        "Throughout this lesson, $N$ will be the batch size, $H$ will refer to the height, $W$ to the width, and $C$ to the feature channels. The greek letter $\\mu()$ refers to mean and the greek letter $\\sigma()$ refers to standard deviation.\n",
        "\n",
        "The batch features are denoted by $x$ with a shape of $[N, C, H, W]$.\n",
        "\n",
        "![pic](https://raw.githubusercontent.com/CUTe-EmbeddedAI/images/main/images/fig22.PNG)\n",
        "\n",
        "We will visualize the 4D activation maps x by **merging the spatial dimensions**. Now, we have a 3D shape that looks like this:\n",
        "\n",
        "![pic](https://raw.githubusercontent.com/CUTe-EmbeddedAI/images/main/images/fig23.PNG)\n",
        "\n",
        "The most dominant solution is batch normalization. Let’s see how it works.\n",
        "\n",
        "> Batch Normalization (BN) normalizes the mean and standard deviation **for each individual feature channel/map**.\n",
        "\n",
        "First of all, the mean and standard deviation are first-order statistics, and thus they relate to the **global characteristics** (such as the image style).\n",
        "\n",
        "In this way, we somehow blend the global characteristics. Such a strategy is effective when we want our representation to share these characteristics. This is the reason that we widely utilize BN in downstream tasks (i.e., image classification).\n",
        "\n",
        "From a mathematical point of view, **you can think of it as bringing the features of the image in the same range**.\n",
        "\n",
        "![pic](https://raw.githubusercontent.com/CUTe-EmbeddedAI/images/main/images/fig24.PNG)\n",
        "\n",
        "Specifically, we demand from our features to follow a Gaussian distribution with zero mean and unit variance. Mathematically, this can be expressed as:\n",
        "\n",
        "![pic](https://raw.githubusercontent.com/CUTe-EmbeddedAI/images/main/images/fig25.PNG)\n",
        "\n",
        "The index $c$ denotes the per-channel (feature map) mean.\n",
        "\n",
        "Let’s see this operation visually:\n",
        "\n",
        "![pic](https://raw.githubusercontent.com/CUTe-EmbeddedAI/images/main/images/fig26.PNG)\n",
        "\n",
        "Notably, the spatial dimensions as well as the image batch are averaged. This way, **we concentrate our features in a compact Gaussian-like space**, which is usually beneficial.\n",
        "\n",
        "In fact, $\\gamma$ and $\\beta$ correspond to the trainable parameters that result in the linear/affine transformation, which is different for all channels.\n",
        "\n",
        "Specifically $\\gamma$ and $\\beta$ are vectors with the channel dimensionality."
      ]
    },
    {
      "cell_type": "markdown",
      "metadata": {
        "id": "Iq4OEKm3FO95"
      },
      "source": [
        "### Advantages and disadvantages of using batch normalization\n",
        "\n",
        "The following are some **advantages** of BN:\n",
        "\n",
        "- BN accelerates the training of deep neural networks and tackles the vanishing gradient problem.\n",
        "\n",
        "- For every input mini-batch, we calculate different statistics. This introduces some sort of regularization. Regularization refers to any form of technique/constraint that restricts the complexity of a deep neural network during training.\n",
        "\n",
        "- BN also has a beneficial effect on the gradient flow through the network. It reduces the dependence of gradients on the scale of the parameters or of their initial values. This allows us to use much higher learning rates.\n",
        "\n",
        "- In theory, BN makes it possible to use saturating nonlinearities by preventing the network from getting stuck, but we just use nn.ReLU().\n",
        "\n",
        "- BN makes the gradients more predictive.\n",
        "\n",
        "BN has the following **disadvantages**:\n",
        "\n",
        "- Batch normalization may cause inaccurate estimation of batch statistics when we have a small batch size. This increases the model error. In tasks such as image segmentation, the batch size is usually too small. BN needs a sufficiently large batch size.\n",
        "\n",
        "Let’s now implement batch normalization from scratch for images of size $[N, C, H, W]$. All you have to do is transform the above equations to Pytorch. The tricky part is to correctly figure out the sizes of each tensor."
      ]
    },
    {
      "cell_type": "code",
      "execution_count": null,
      "metadata": {
        "id": "c9RMg8gtFO9-"
      },
      "outputs": [],
      "source": [
        "import torch\n",
        "\n",
        "# Gamma and beta are provided as 1d tensors.\n",
        "# X is the data in a mini-batch\n",
        "\n",
        "def batchnorm(X, gamma, beta):\n",
        "\n",
        "    # extract the dimensions\n",
        "    N, C, H, W = list(X.size())\n",
        "    # mini-batch mean\n",
        "    mean = torch.mean(X, dim=(0, 2, 3))\n",
        "    # mini-batch variance\n",
        "    variance = torch.mean((X - mean.reshape((1, C, 1, 1))) ** 2, dim=(0, 2, 3))\n",
        "    # normalize\n",
        "    X_hat = (X - mean.reshape((1, C, 1, 1))) * 1.0 / torch.sqrt(variance.reshape((1, C, 1, 1)) )\n",
        "    # scale and shift\n",
        "    out = gamma.reshape((1, C, 1, 1)) * X_hat + beta.reshape((1, C, 1, 1))\n",
        "\n",
        "    return out"
      ]
    },
    {
      "cell_type": "code",
      "source": [
        "# get some random training images\n",
        "dataiter = iter(train_dataloader)\n",
        "images, labels = next(dataiter)\n",
        "\n",
        "BN_layer = nn.BatchNorm2d(3)\n",
        "output_BN = BN_layer(images)"
      ],
      "metadata": {
        "id": "Xiiu6gbyXiV5"
      },
      "execution_count": null,
      "outputs": []
    },
    {
      "cell_type": "code",
      "source": [
        "print(images)"
      ],
      "metadata": {
        "id": "CuOAqYKUzwfv"
      },
      "execution_count": null,
      "outputs": []
    },
    {
      "cell_type": "code",
      "source": [
        "print(output_BN)"
      ],
      "metadata": {
        "id": "U0iv6oB0zzGd"
      },
      "execution_count": null,
      "outputs": []
    },
    {
      "cell_type": "markdown",
      "metadata": {
        "id": "OKa3BdDeFO-F"
      },
      "source": [
        "### Dropout\n",
        "\n",
        "Another technique to train deep learning models is dropout.\n",
        "\n",
        "Conceptually, dropout approximates training a large number of neural networks with different architectures in parallel.\n",
        "\n",
        "> In practice, during training, some number of layer outputs are randomly ignored (dropped out) with probability $p$.\n",
        "\n",
        "Thus, the same layer will alter its connectivity and will search for alternative paths to convey the information in the next layer. As a result, each update to a layer during training is performed with a different “view” of the configured layer.\n",
        "\n",
        "“Dropping” values means temporarily removing them from the network for the current forward pass along with all its incoming and outgoing connections.\n",
        "\n",
        "Dropout has the effect of making the training process noisy. The choice of the probability $p$ depends on the architecture.\n",
        "\n",
        "![pic](https://raw.githubusercontent.com/CUTe-EmbeddedAI/images/main/images/fig27.PNG)\n",
        "This conceptualization suggests that perhaps dropout breaks-up situations where network layers co-adapt to correct mistakes from prior layers, in turn making the model more robust.\n",
        "\n",
        "The neural network will adapt in a way that prevents overfitting, which refers to poor generalization to unseen data.\n",
        "\n",
        "Dropout increases the sparsity of the network and in general encourages sparse representations!\n",
        "\n",
        "You can find an example in the code below .\n",
        "\n",
        "Notice that each value will be zeroed with a probability of p=0.5. Nonetheless, that doesn’t imply that the output will be 50% zeroed-out every time."
      ]
    },
    {
      "cell_type": "code",
      "execution_count": null,
      "metadata": {
        "colab": {
          "base_uri": "https://localhost:8080/"
        },
        "id": "TkEyw3pDFO-I",
        "outputId": "b64f1901-bf97-41b8-dd4d-da3eeb19e074"
      },
      "outputs": [
        {
          "output_type": "stream",
          "name": "stdout",
          "text": [
            "tensor([[0.3524, 0.1781, 0.4470, 0.5521, 0.4450, 0.3468, 0.3669, 0.0194]])\n",
            "tensor([[0.0000, 0.0000, 0.0000, 0.0000, 0.8899, 0.6937, 0.0000, 0.0388]])\n",
            "tensor([[0.7047, 0.0000, 0.0000, 1.1041, 0.8899, 0.6937, 0.7338, 0.0388]])\n"
          ]
        }
      ],
      "source": [
        "import torch\n",
        "import torch.nn as nn\n",
        "\n",
        "inp = torch.rand(1,8)\n",
        "dropout_layer = nn.Dropout(0.5)\n",
        "out1 = dropout_layer(inp)\n",
        "out2 = dropout_layer(inp)\n",
        "print(inp)\n",
        "print(out1)\n",
        "print(out2)"
      ]
    },
    {
      "cell_type": "markdown",
      "metadata": {
        "id": "G2vah6ZTFO-L"
      },
      "source": [
        "### Training with batchnorm\n",
        "\n",
        "Now, it's the time to apply batchnorm and dropout! Let's copy and paste the code for training a CNN in our previous notebook."
      ]
    },
    {
      "cell_type": "markdown",
      "metadata": {
        "id": "PhztnMavFO-X"
      },
      "source": [
        "Here, try to incorporate batchnorm as a layer in this vanilla CNN.\n",
        "\n",
        "Note that in pytorch, batchnorm can be implemented using `nn.BatchNorm2d(num_features)` for 2D input and `nn.BatchNorm2d(num_features)` for 1D input."
      ]
    },
    {
      "cell_type": "markdown",
      "metadata": {
        "id": "DLDK3OpMFO-k"
      },
      "source": [
        "### Training with dropout\n",
        "\n",
        "Adding dropout to your PyTorch models is very straightforward with the `torch.nn.Dropout` class, which takes in the dropout rate – the probability of a neuron being deactivated – as a parameter.\n",
        "\n",
        "Go back to the CNN class and try to incorporate dropout as an additional layer in the fully connected layer."
      ]
    },
    {
      "cell_type": "code",
      "execution_count": null,
      "metadata": {
        "id": "aocAQZf_FO-Z"
      },
      "outputs": [],
      "source": [
        "#1. DEFINE THE CNN WITH BATCHNORM\n",
        "class CNN(nn.Module):\n",
        "    def __init__(self):\n",
        "        super(CNN, self).__init__()\n",
        "        self.conv1 = nn.Conv2d(3, 6, 5)\n",
        "        self.pool = nn.MaxPool2d(2, 2)\n",
        "        self.batchnorm1 = nn.BatchNorm2d(6) # defining our batchnorm1 layer\n",
        "        self.conv2 = nn.Conv2d(6, 16, 5)\n",
        "        self.batchnorm2 = nn.BatchNorm2d(16) # defining our batchnorm2 layer\n",
        "        self.fc1 = nn.Linear(16 * 5 * 5, 120)\n",
        "        self.fc2 = nn.Linear(120, 84)\n",
        "        self.fc3 = nn.Linear(84, 10)\n",
        "        self.relu = nn.ReLU()\n",
        "        self.dropout = nn.Dropout(0.5)\n",
        "\n",
        "    def forward(self, x):\n",
        "        x = self.pool(self.relu(self.conv1(x)))\n",
        "        # INCLUDE BATCHNORM IN THE FORWARD METHOD #\n",
        "        x = self.batchnorm1(x)\n",
        "        x = self.pool(self.relu(self.conv2(x)))\n",
        "        # INCLUDE BATCHNORM IN THE FORWARD METHOD #\n",
        "        x = self.batchnorm2(x)\n",
        "        x = x.view(-1, 16 * 5 * 5)\n",
        "        x = self.relu(self.fc1(x))\n",
        "        x = self.dropout(x)\n",
        "        x = self.relu(self.fc2(x))\n",
        "        x = self.fc3(x)\n",
        "        return x\n"
      ]
    },
    {
      "cell_type": "markdown",
      "source": [
        "### Adding the residual layer"
      ],
      "metadata": {
        "id": "G78lF-6o0T6m"
      }
    },
    {
      "cell_type": "code",
      "source": [
        "import torch\n",
        "import torch.nn as nn\n",
        "import torch.nn.functional as F\n",
        "\n",
        "class ResidualBlock(nn.Module):\n",
        "    def __init__(self, in_channels, out_channels, stride=1):\n",
        "        super(ResidualBlock, self).__init__()\n",
        "\n",
        "        # Convolutional layers with batch normalization and ReLU\n",
        "        self.conv1 = nn.Conv2d(in_channels, out_channels, kernel_size=3, stride=stride, padding=1)\n",
        "        self.bn1 = nn.BatchNorm2d(out_channels)\n",
        "        self.conv2 = nn.Conv2d(out_channels, out_channels, kernel_size=3, stride=1, padding=1)\n",
        "        self.bn2 = nn.BatchNorm2d(out_channels)\n",
        "\n",
        "        # Identity mapping (skip connection), 1x1 convolution to match dimensions if needed\n",
        "        self.identity = nn.Sequential()\n",
        "        if stride != 1 or in_channels != out_channels:\n",
        "            self.identity = nn.Conv2d(in_channels, out_channels, kernel_size=1, stride=stride, padding=0)\n",
        "\n",
        "    def forward(self, x):\n",
        "        out = F.relu(self.bn1(self.conv1(x)))  # First convolution + batch norm + ReLU\n",
        "        out = self.bn2(self.conv2(out))        # Second convolution + batch norm\n",
        "        out += self.identity(x)  # Skip connection (identity mapping or projection)\n",
        "        out = F.relu(out)  # ReLU activation after the addition\n",
        "        return out\n",
        "\n",
        "\n",
        "# CNN with Residual Block for 32x32 Input\n",
        "class ResidualCNN(nn.Module):\n",
        "    def __init__(self, num_classes=10):\n",
        "        super(ResidualCNN, self).__init__()\n",
        "\n",
        "        self.conv1 = nn.Conv2d(3, 6, kernel_size=5)  # Conv1: [B, 3, 32, 32] -> [B, 6, 28, 28]\n",
        "        self.pool = nn.MaxPool2d(2, 2)  # MaxPool: [B, 6, 28, 28] -> [B, 6, 14, 14]\n",
        "        self.res_block1 = ResidualBlock(6, 6)  # ResidualBlock1: [B, 6, 14, 14] -> [B, 6, 14, 14]\n",
        "        self.conv2 = nn.Conv2d(6, 16, kernel_size=5)  # Conv2: [B, 6, 14, 14] -> [B, 16, 10, 10]\n",
        "        self.res_block2 = ResidualBlock(16, 16)  # ResidualBlock2: [B, 16, 10, 10] -> [B, 16, 10, 10]\n",
        "\n",
        "        # Update the fully connected layer input size according to the new feature map size\n",
        "        self.fc1 = nn.Linear(16 * 5 * 5, 120)  # FC1: [B, 16 * 5 * 5] -> [B, 120]\n",
        "        self.fc2 = nn.Linear(120, 84)  # FC2: [B, 120] -> [B, 84]\n",
        "        self.fc3 = nn.Linear(84, num_classes)  # FC3: [B, 84] -> [B, num_classes]\n",
        "\n",
        "    def forward(self, x):\n",
        "        x = self.pool(F.relu(self.conv1(x)))  # Conv1 + Pool: [B, 1, 32, 32] -> [B, 6, 14, 14]\n",
        "        x = self.res_block1(x)  # ResidualBlock1: [B, 6, 14, 14] -> [B, 6, 14, 14]\n",
        "        x = self.pool(F.relu(self.conv2(x)))  # Conv2 + Pool: [B, 6, 14, 14] -> [B, 16, 5, 5]\n",
        "        x = self.res_block2(x)  # ResidualBlock2: [B, 16, 5, 5] -> [B, 16, 5, 5]\n",
        "        x = x.view(-1, 16 * 5 * 5)  # Flatten: [B, 16, 5, 5] -> [B, 16 * 5 * 5] = [B, 400]\n",
        "        x = F.relu(self.fc1(x))  # FC1: [B, 400] -> [B, 120]\n",
        "        x = F.relu(self.fc2(x))  # FC2: [B, 120] -> [B, 84]\n",
        "        x = self.fc3(x)  # FC3: [B, 84] -> [B, num_classes]\n",
        "        return x"
      ],
      "metadata": {
        "id": "Xpk8a3FUybnu"
      },
      "execution_count": 8,
      "outputs": []
    },
    {
      "cell_type": "code",
      "execution_count": 9,
      "metadata": {
        "colab": {
          "base_uri": "https://localhost:8080/"
        },
        "id": "vgWT1BGZFO-b",
        "outputId": "8ddd7fab-5b5d-40d8-b8c2-fe67453a138a"
      },
      "outputs": [
        {
          "output_type": "execute_result",
          "data": {
            "text/plain": [
              "ResNetLeNet(\n",
              "  (conv1): Conv2d(3, 6, kernel_size=(5, 5), stride=(1, 1))\n",
              "  (pool): MaxPool2d(kernel_size=2, stride=2, padding=0, dilation=1, ceil_mode=False)\n",
              "  (res_block1): ResNetResidualBlock(\n",
              "    (conv1): Conv2d(6, 6, kernel_size=(3, 3), stride=(1, 1), padding=(1, 1))\n",
              "    (bn1): BatchNorm2d(6, eps=1e-05, momentum=0.1, affine=True, track_running_stats=True)\n",
              "    (conv2): Conv2d(6, 6, kernel_size=(3, 3), stride=(1, 1), padding=(1, 1))\n",
              "    (bn2): BatchNorm2d(6, eps=1e-05, momentum=0.1, affine=True, track_running_stats=True)\n",
              "    (identity): Sequential()\n",
              "  )\n",
              "  (conv2): Conv2d(6, 16, kernel_size=(5, 5), stride=(1, 1))\n",
              "  (res_block2): ResNetResidualBlock(\n",
              "    (conv1): Conv2d(16, 16, kernel_size=(3, 3), stride=(1, 1), padding=(1, 1))\n",
              "    (bn1): BatchNorm2d(16, eps=1e-05, momentum=0.1, affine=True, track_running_stats=True)\n",
              "    (conv2): Conv2d(16, 16, kernel_size=(3, 3), stride=(1, 1), padding=(1, 1))\n",
              "    (bn2): BatchNorm2d(16, eps=1e-05, momentum=0.1, affine=True, track_running_stats=True)\n",
              "    (identity): Sequential()\n",
              "  )\n",
              "  (fc1): Linear(in_features=400, out_features=120, bias=True)\n",
              "  (fc2): Linear(in_features=120, out_features=84, bias=True)\n",
              "  (fc3): Linear(in_features=84, out_features=10, bias=True)\n",
              ")"
            ]
          },
          "metadata": {},
          "execution_count": 9
        }
      ],
      "source": [
        "model = ResidualCNN() # need to instantiate the network to be used in instance method\n",
        "\n",
        "# LOSS AND OPTIMIZER\n",
        "loss_fn = nn.CrossEntropyLoss()\n",
        "optimizer = torch.optim.SGD(model.parameters(), lr=0.001, momentum=0.9)\n",
        "\n",
        "# move the model to GPU\n",
        "device = torch.device('cuda:0' if torch.cuda.is_available() else 'cpu')\n",
        "model.to(device)"
      ]
    },
    {
      "cell_type": "code",
      "execution_count": 10,
      "metadata": {
        "id": "iqUb-WREFO-e"
      },
      "outputs": [],
      "source": [
        "import time\n",
        "from tqdm.auto import tqdm\n",
        "\n",
        "# Train in one epoch function\n",
        "def train_one_epoch(model, train_loader, loss_fn, optimizer, device):\n",
        "    model.train()\n",
        "    train_loss, train_correct = 0, 0\n",
        "\n",
        "    for inputs, labels in train_loader:\n",
        "        inputs, labels = inputs.to(device), labels.to(device)\n",
        "\n",
        "        optimizer.zero_grad()\n",
        "        outputs = model(inputs)\n",
        "        loss = loss_fn(outputs, labels)\n",
        "        loss.backward()\n",
        "        optimizer.step()\n",
        "\n",
        "        train_loss += loss.item() * inputs.size(0)\n",
        "        _, predictions = torch.max(outputs, 1)\n",
        "        train_correct += torch.sum(predictions == labels.data)\n",
        "\n",
        "    return train_loss / len(train_loader.dataset), train_correct.double() / len(train_loader.dataset)\n",
        "\n",
        "# Validation function\n",
        "def validate(model, val_loader, loss_fn, device):\n",
        "    model.eval()\n",
        "    val_loss, val_correct = 0, 0\n",
        "\n",
        "    with torch.no_grad():\n",
        "        for inputs, labels in val_loader:\n",
        "            inputs, labels = inputs.to(device), labels.to(device)\n",
        "            outputs = model(inputs)\n",
        "            loss = loss_fn(outputs, labels)\n",
        "\n",
        "            val_loss += loss.item() * inputs.size(0)\n",
        "            _, predictions = torch.max(outputs, 1)\n",
        "            val_correct += torch.sum(predictions == labels.data)\n",
        "\n",
        "    return val_loss / len(val_loader.dataset), val_correct.double() / len(val_loader.dataset)\n",
        "\n",
        "# Training and validation loop with timing\n",
        "def train_and_validate(model, train_loader, val_loader, loss_fn, optimizer, epochs, device='cuda'):\n",
        "    model.to(device)\n",
        "    history = {\n",
        "        'train_loss': [],\n",
        "        'train_accuracy': [],\n",
        "        'val_loss': [],\n",
        "        'val_accuracy': []\n",
        "    }\n",
        "\n",
        "    for epoch in tqdm(range(epochs), desc=\"Training Progress\", leave=True):\n",
        "        epoch_start_time = time.time()\n",
        "\n",
        "        train_loss, train_accuracy = train_one_epoch(model, train_loader, loss_fn, optimizer, device)\n",
        "        val_loss, val_accuracy = validate(model, val_loader, loss_fn, device)\n",
        "\n",
        "        history['train_loss'].append(train_loss)\n",
        "        history['train_accuracy'].append(train_accuracy.item())\n",
        "        history['val_loss'].append(val_loss)\n",
        "        history['val_accuracy'].append(val_accuracy.item())\n",
        "\n",
        "        epoch_end_time = time.time()\n",
        "\n",
        "        # Use tqdm.write() instead of print() to avoid extra blank lines\n",
        "        tqdm.write(f'Epoch {epoch+1}/{epochs}: Train loss: {train_loss:.4f}, Train accuracy: {train_accuracy:.4f}, '\n",
        "                   f'Val loss: {val_loss:.4f}, Val accuracy: {val_accuracy:.4f}, '\n",
        "                   f'Time: {(epoch_end_time - epoch_start_time):.2f}s')\n",
        "\n",
        "    return model, history"
      ]
    },
    {
      "cell_type": "code",
      "execution_count": 11,
      "metadata": {
        "colab": {
          "base_uri": "https://localhost:8080/",
          "height": 247,
          "referenced_widgets": [
            "768285ed8a474ce0bcd762da18171bd4",
            "6fca0dc00f754659ae916e64a3e51bb4",
            "b349feb6d44342e5bd0272298ec35b5b",
            "500b7873f81f41218fc71c2e2c610cd6",
            "72d2d00ae356407487bd30369222bfc7",
            "5882c4f8341c4c9582730095580e937f",
            "d7aeb3270a204c43aaebeffd0f96f23f",
            "21a60465eb85414d90d2289b99f681df",
            "7fc4ccaaef8e48c3a24413cb14f22f1b",
            "467e2a7405044a8c8c5c1b71d8ac3e8c",
            "313d35f559e64c3580e95f66706c8166"
          ]
        },
        "id": "ngaHvvWZFO-i",
        "outputId": "cfe4dc6a-a6ce-47b2-ae22-709a01bbf136"
      },
      "outputs": [
        {
          "output_type": "display_data",
          "data": {
            "text/plain": [
              "Training Progress:   0%|          | 0/10 [00:00<?, ?it/s]"
            ],
            "application/vnd.jupyter.widget-view+json": {
              "version_major": 2,
              "version_minor": 0,
              "model_id": "768285ed8a474ce0bcd762da18171bd4"
            }
          },
          "metadata": {}
        },
        {
          "output_type": "stream",
          "name": "stdout",
          "text": [
            "Epoch 1/10: Train loss: 1.6918, Train accuracy: 0.3669, Val loss: 1.4838, Val accuracy: 0.4600, Time: 27.37s\n",
            "Epoch 2/10: Train loss: 1.3875, Train accuracy: 0.4940, Val loss: 1.3250, Val accuracy: 0.5230, Time: 26.83s\n",
            "Epoch 3/10: Train loss: 1.2653, Train accuracy: 0.5444, Val loss: 1.1975, Val accuracy: 0.5645, Time: 26.16s\n",
            "Epoch 4/10: Train loss: 1.1734, Train accuracy: 0.5791, Val loss: 1.2061, Val accuracy: 0.5688, Time: 26.30s\n",
            "Epoch 5/10: Train loss: 1.1056, Train accuracy: 0.6053, Val loss: 1.1614, Val accuracy: 0.5870, Time: 26.12s\n",
            "Epoch 6/10: Train loss: 1.0497, Train accuracy: 0.6251, Val loss: 1.0809, Val accuracy: 0.6170, Time: 26.11s\n",
            "Epoch 7/10: Train loss: 1.0059, Train accuracy: 0.6431, Val loss: 1.0520, Val accuracy: 0.6256, Time: 26.49s\n",
            "Epoch 8/10: Train loss: 0.9621, Train accuracy: 0.6589, Val loss: 1.0347, Val accuracy: 0.6365, Time: 26.57s\n",
            "Epoch 9/10: Train loss: 0.9253, Train accuracy: 0.6716, Val loss: 1.0239, Val accuracy: 0.6396, Time: 26.11s\n",
            "Epoch 10/10: Train loss: 0.8890, Train accuracy: 0.6832, Val loss: 1.0675, Val accuracy: 0.6229, Time: 26.01s\n"
          ]
        }
      ],
      "source": [
        "num_epochs =10\n",
        "trained_model, history = train_and_validate(model, train_dataloader, test_dataloader, loss_fn, optimizer, num_epochs)"
      ]
    },
    {
      "cell_type": "code",
      "source": [
        "# Extracting data for plotting\n",
        "train_losses = history['train_loss']\n",
        "train_accuracies = history['train_accuracy']\n",
        "val_losses = history['val_loss']\n",
        "val_accuracies = history['val_accuracy']\n",
        "epochs = range(1, len(train_losses) + 1)\n",
        "\n",
        "# Plotting\n",
        "plt.figure(figsize=(12, 5))\n",
        "\n",
        "# Loss Plot\n",
        "plt.subplot(1, 2, 1)\n",
        "plt.plot(epochs, train_losses, label='Training Loss')\n",
        "plt.plot(epochs, val_losses, label='Validation Loss')\n",
        "plt.title('Training and Validation Loss')\n",
        "plt.ylim(0, 3)\n",
        "plt.xlabel('Epoch')\n",
        "plt.ylabel('Loss')\n",
        "plt.legend()\n",
        "\n",
        "# Accuracy Plot\n",
        "plt.subplot(1, 2, 2)\n",
        "plt.plot(epochs, train_accuracies, label='Training Accuracy')\n",
        "plt.plot(epochs, val_accuracies, label='Validation Accuracy')\n",
        "plt.title('Training and Validation Accuracy')\n",
        "plt.ylim(0, 1)\n",
        "plt.xlabel('Epoch')\n",
        "plt.ylabel('Accuracy')\n",
        "plt.legend()\n",
        "\n",
        "plt.tight_layout()\n",
        "plt.show()"
      ],
      "metadata": {
        "id": "wN477QQ4e6h-",
        "outputId": "35771b0d-e331-43f4-fa0a-999a9ccb91f1",
        "colab": {
          "base_uri": "https://localhost:8080/",
          "height": 328
        }
      },
      "execution_count": 12,
      "outputs": [
        {
          "output_type": "display_data",
          "data": {
            "text/plain": [
              "<Figure size 1200x500 with 2 Axes>"
            ],
            "image/png": "[encoded data removed]"
          },
          "metadata": {}
        }
      ]
    },
    {
      "cell_type": "code",
      "execution_count": null,
      "metadata": {
        "id": "ksfu_3QoFO-m"
      },
      "outputs": [],
      "source": []
    }
  ],
  "metadata": {
    "kernelspec": {
      "display_name": "Python 3.7 (pytorch_hasan)",
      "language": "python",
      "name": "torch"
    },
    "language_info": {
      "codemirror_mode": {
        "name": "ipython",
        "version": 3
      },
      "file_extension": ".py",
      "mimetype": "text/x-python",
      "name": "python",
      "nbconvert_exporter": "python",
      "pygments_lexer": "ipython3",
      "version": "3.7.9"
    },
    "colab": {
      "provenance": [],
      "gpuType": "T4"
    },
    "widgets": {
      "application/vnd.jupyter.widget-state+json": {
        "768285ed8a474ce0bcd762da18171bd4": {
          "model_module": "@jupyter-widgets/controls",
          "model_name": "HBoxModel",
          "model_module_version": "1.5.0",
          "state": {
            "_dom_classes": [],
            "_model_module": "@jupyter-widgets/controls",
            "_model_module_version": "1.5.0",
            "_model_name": "HBoxModel",
            "_view_count": null,
            "_view_module": "@jupyter-widgets/controls",
            "_view_module_version": "1.5.0",
            "_view_name": "HBoxView",
            "box_style": "",
            "children": [
              "IPY_MODEL_6fca0dc00f754659ae916e64a3e51bb4",
              "IPY_MODEL_b349feb6d44342e5bd0272298ec35b5b",
              "IPY_MODEL_500b7873f81f41218fc71c2e2c610cd6"
            ],
            "layout": "IPY_MODEL_72d2d00ae356407487bd30369222bfc7"
          }
        },
        "6fca0dc00f754659ae916e64a3e51bb4": {
          "model_module": "@jupyter-widgets/controls",
          "model_name": "HTMLModel",
          "model_module_version": "1.5.0",
          "state": {
            "_dom_classes": [],
            "_model_module": "@jupyter-widgets/controls",
            "_model_module_version": "1.5.0",
            "_model_name": "HTMLModel",
            "_view_count": null,
            "_view_module": "@jupyter-widgets/controls",
            "_view_module_version": "1.5.0",
            "_view_name": "HTMLView",
            "description": "",
            "description_tooltip": null,
            "layout": "IPY_MODEL_5882c4f8341c4c9582730095580e937f",
            "placeholder": "​",
            "style": "IPY_MODEL_d7aeb3270a204c43aaebeffd0f96f23f",
            "value": "Training Progress: 100%"
          }
        },
        "b349feb6d44342e5bd0272298ec35b5b": {
          "model_module": "@jupyter-widgets/controls",
          "model_name": "FloatProgressModel",
          "model_module_version": "1.5.0",
          "state": {
            "_dom_classes": [],
            "_model_module": "@jupyter-widgets/controls",
            "_model_module_version": "1.5.0",
            "_model_name": "FloatProgressModel",
            "_view_count": null,
            "_view_module": "@jupyter-widgets/controls",
            "_view_module_version": "1.5.0",
            "_view_name": "ProgressView",
            "bar_style": "success",
            "description": "",
            "description_tooltip": null,
            "layout": "IPY_MODEL_21a60465eb85414d90d2289b99f681df",
            "max": 10,
            "min": 0,
            "orientation": "horizontal",
            "style": "IPY_MODEL_7fc4ccaaef8e48c3a24413cb14f22f1b",
            "value": 10
          }
        },
        "500b7873f81f41218fc71c2e2c610cd6": {
          "model_module": "@jupyter-widgets/controls",
          "model_name": "HTMLModel",
          "model_module_version": "1.5.0",
          "state": {
            "_dom_classes": [],
            "_model_module": "@jupyter-widgets/controls",
            "_model_module_version": "1.5.0",
            "_model_name": "HTMLModel",
            "_view_count": null,
            "_view_module": "@jupyter-widgets/controls",
            "_view_module_version": "1.5.0",
            "_view_name": "HTMLView",
            "description": "",
            "description_tooltip": null,
            "layout": "IPY_MODEL_467e2a7405044a8c8c5c1b71d8ac3e8c",
            "placeholder": "​",
            "style": "IPY_MODEL_313d35f559e64c3580e95f66706c8166",
            "value": " 10/10 [04:24&lt;00:00, 26.23s/it]"
          }
        },
        "72d2d00ae356407487bd30369222bfc7": {
          "model_module": "@jupyter-widgets/base",
          "model_name": "LayoutModel",
          "model_module_version": "1.2.0",
          "state": {
            "_model_module": "@jupyter-widgets/base",
            "_model_module_version": "1.2.0",
            "_model_name": "LayoutModel",
            "_view_count": null,
            "_view_module": "@jupyter-widgets/base",
            "_view_module_version": "1.2.0",
            "_view_name": "LayoutView",
            "align_content": null,
            "align_items": null,
            "align_self": null,
            "border": null,
            "bottom": null,
            "display": null,
            "flex": null,
            "flex_flow": null,
            "grid_area": null,
            "grid_auto_columns": null,
            "grid_auto_flow": null,
            "grid_auto_rows": null,
            "grid_column": null,
            "grid_gap": null,
            "grid_row": null,
            "grid_template_areas": null,
            "grid_template_columns": null,
            "grid_template_rows": null,
            "height": null,
            "justify_content": null,
            "justify_items": null,
            "left": null,
            "margin": null,
            "max_height": null,
            "max_width": null,
            "min_height": null,
            "min_width": null,
            "object_fit": null,
            "object_position": null,
            "order": null,
            "overflow": null,
            "overflow_x": null,
            "overflow_y": null,
            "padding": null,
            "right": null,
            "top": null,
            "visibility": null,
            "width": null
          }
        },
        "5882c4f8341c4c9582730095580e937f": {
          "model_module": "@jupyter-widgets/base",
          "model_name": "LayoutModel",
          "model_module_version": "1.2.0",
          "state": {
            "_model_module": "@jupyter-widgets/base",
            "_model_module_version": "1.2.0",
            "_model_name": "LayoutModel",
            "_view_count": null,
            "_view_module": "@jupyter-widgets/base",
            "_view_module_version": "1.2.0",
            "_view_name": "LayoutView",
            "align_content": null,
            "align_items": null,
            "align_self": null,
            "border": null,
            "bottom": null,
            "display": null,
            "flex": null,
            "flex_flow": null,
            "grid_area": null,
            "grid_auto_columns": null,
            "grid_auto_flow": null,
            "grid_auto_rows": null,
            "grid_column": null,
            "grid_gap": null,
            "grid_row": null,
            "grid_template_areas": null,
            "grid_template_columns": null,
            "grid_template_rows": null,
            "height": null,
            "justify_content": null,
            "justify_items": null,
            "left": null,
            "margin": null,
            "max_height": null,
            "max_width": null,
            "min_height": null,
            "min_width": null,
            "object_fit": null,
            "object_position": null,
            "order": null,
            "overflow": null,
            "overflow_x": null,
            "overflow_y": null,
            "padding": null,
            "right": null,
            "top": null,
            "visibility": null,
            "width": null
          }
        },
        "d7aeb3270a204c43aaebeffd0f96f23f": {
          "model_module": "@jupyter-widgets/controls",
          "model_name": "DescriptionStyleModel",
          "model_module_version": "1.5.0",
          "state": {
            "_model_module": "@jupyter-widgets/controls",
            "_model_module_version": "1.5.0",
            "_model_name": "DescriptionStyleModel",
            "_view_count": null,
            "_view_module": "@jupyter-widgets/base",
            "_view_module_version": "1.2.0",
            "_view_name": "StyleView",
            "description_width": ""
          }
        },
        "21a60465eb85414d90d2289b99f681df": {
          "model_module": "@jupyter-widgets/base",
          "model_name": "LayoutModel",
          "model_module_version": "1.2.0",
          "state": {
            "_model_module": "@jupyter-widgets/base",
            "_model_module_version": "1.2.0",
            "_model_name": "LayoutModel",
            "_view_count": null,
            "_view_module": "@jupyter-widgets/base",
            "_view_module_version": "1.2.0",
            "_view_name": "LayoutView",
            "align_content": null,
            "align_items": null,
            "align_self": null,
            "border": null,
            "bottom": null,
            "display": null,
            "flex": null,
            "flex_flow": null,
            "grid_area": null,
            "grid_auto_columns": null,
            "grid_auto_flow": null,
            "grid_auto_rows": null,
            "grid_column": null,
            "grid_gap": null,
            "grid_row": null,
            "grid_template_areas": null,
            "grid_template_columns": null,
            "grid_template_rows": null,
            "height": null,
            "justify_content": null,
            "justify_items": null,
            "left": null,
            "margin": null,
            "max_height": null,
            "max_width": null,
            "min_height": null,
            "min_width": null,
            "object_fit": null,
            "object_position": null,
            "order": null,
            "overflow": null,
            "overflow_x": null,
            "overflow_y": null,
            "padding": null,
            "right": null,
            "top": null,
            "visibility": null,
            "width": null
          }
        },
        "7fc4ccaaef8e48c3a24413cb14f22f1b": {
          "model_module": "@jupyter-widgets/controls",
          "model_name": "ProgressStyleModel",
          "model_module_version": "1.5.0",
          "state": {
            "_model_module": "@jupyter-widgets/controls",
            "_model_module_version": "1.5.0",
            "_model_name": "ProgressStyleModel",
            "_view_count": null,
            "_view_module": "@jupyter-widgets/base",
            "_view_module_version": "1.2.0",
            "_view_name": "StyleView",
            "bar_color": null,
            "description_width": ""
          }
        },
        "467e2a7405044a8c8c5c1b71d8ac3e8c": {
          "model_module": "@jupyter-widgets/base",
          "model_name": "LayoutModel",
          "model_module_version": "1.2.0",
          "state": {
            "_model_module": "@jupyter-widgets/base",
            "_model_module_version": "1.2.0",
            "_model_name": "LayoutModel",
            "_view_count": null,
            "_view_module": "@jupyter-widgets/base",
            "_view_module_version": "1.2.0",
            "_view_name": "LayoutView",
            "align_content": null,
            "align_items": null,
            "align_self": null,
            "border": null,
            "bottom": null,
            "display": null,
            "flex": null,
            "flex_flow": null,
            "grid_area": null,
            "grid_auto_columns": null,
            "grid_auto_flow": null,
            "grid_auto_rows": null,
            "grid_column": null,
            "grid_gap": null,
            "grid_row": null,
            "grid_template_areas": null,
            "grid_template_columns": null,
            "grid_template_rows": null,
            "height": null,
            "justify_content": null,
            "justify_items": null,
            "left": null,
            "margin": null,
            "max_height": null,
            "max_width": null,
            "min_height": null,
            "min_width": null,
            "object_fit": null,
            "object_position": null,
            "order": null,
            "overflow": null,
            "overflow_x": null,
            "overflow_y": null,
            "padding": null,
            "right": null,
            "top": null,
            "visibility": null,
            "width": null
          }
        },
        "313d35f559e64c3580e95f66706c8166": {
          "model_module": "@jupyter-widgets/controls",
          "model_name": "DescriptionStyleModel",
          "model_module_version": "1.5.0",
          "state": {
            "_model_module": "@jupyter-widgets/controls",
            "_model_module_version": "1.5.0",
            "_model_name": "DescriptionStyleModel",
            "_view_count": null,
            "_view_module": "@jupyter-widgets/base",
            "_view_module_version": "1.2.0",
            "_view_name": "StyleView",
            "description_width": ""
          }
        }
      }
    },
    "accelerator": "GPU"
  },
  "nbformat": 4,
  "nbformat_minor": 0
}